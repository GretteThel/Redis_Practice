{
 "cells": [
  {
   "cell_type": "code",
   "execution_count": null,
   "id": "edd993c2",
   "metadata": {},
   "outputs": [],
   "source": [
    "!pip install redis"
   ]
  },
  {
   "cell_type": "code",
   "execution_count": 5,
   "id": "bae07a8e",
   "metadata": {},
   "outputs": [
    {
     "name": "stdout",
     "output_type": "stream",
     "text": [
      "Connected to Redis!\n"
     ]
    }
   ],
   "source": [
    "import redis \n",
    "redis_client = redis.Redis(host='127.0.0.1', port=6379, password='', decode_responses=True)\n",
    "\n",
    "try:\n",
    "    redis_client.ping()\n",
    "    print(\"Connected to Redis!\")\n",
    "except redis.connectionError:\n",
    "    print (\"Unable to connect\")\n",
    "    "
   ]
  },
  {
   "cell_type": "code",
   "execution_count": 6,
   "id": "ae604eaf",
   "metadata": {},
   "outputs": [
    {
     "name": "stdout",
     "output_type": "stream",
     "text": [
      "Hello, Redis!\n"
     ]
    }
   ],
   "source": [
    "redis_client.set(\"example_key\", \"Hello, Redis!\")\n",
    "\n",
    "value = redis_client.get('example_key')\n",
    "print(value)\n",
    "\n"
   ]
  },
  {
   "cell_type": "code",
   "execution_count": 7,
   "id": "46abd6ef",
   "metadata": {},
   "outputs": [
    {
     "name": "stdout",
     "output_type": "stream",
     "text": [
      "['item1', 'item2', 'item3']\n"
     ]
    }
   ],
   "source": [
    "redis_client.rpush(\"mylist\", \"item1\", \"item2\", \"item3\")\n",
    "\n",
    "\n",
    "items = redis_client.lrange(\"mylist\", 0, -1)\n",
    "print(items)"
   ]
  },
  {
   "cell_type": "code",
   "execution_count": 8,
   "id": "36b3f40c",
   "metadata": {},
   "outputs": [
    {
     "name": "stdout",
     "output_type": "stream",
     "text": [
      "value1\n"
     ]
    }
   ],
   "source": [
    "redis_client.hset (\"myhash\", \"field1\", \"value1\")\n",
    "redis_client.hset (\"myhash\", \"field2\", \"value2\")\n",
    "\n",
    "field_value = redis_client.hget (\"myhash\", \"field1\")\n",
    "print(field_value)"
   ]
  },
  {
   "cell_type": "code",
   "execution_count": null,
   "id": "712c7a0f",
   "metadata": {},
   "outputs": [
    {
     "name": "stdout",
     "output_type": "stream",
     "text": [
      "{'type': 'subscribe', 'pattern': None, 'channel': 'mychannel', 'data': 1}\n",
      "{'type': 'message', 'pattern': None, 'channel': 'mychannel', 'data': 'Hello, subscribers!'}\n"
     ]
    }
   ],
   "source": [
    "pubsub = redis_client.pubsub()\n",
    "pubsub.subscribe(\"mychannel\")\n",
    "\n",
    "redis_client.publish (\"mychannel\", \"Hello, subscribers!\")\n",
    "\n",
    "for message in pubsub.listen():\n",
    "    print(message)"
   ]
  }
 ],
 "metadata": {
  "kernelspec": {
   "display_name": "Python 3 (ipykernel)",
   "language": "python",
   "name": "python3"
  },
  "language_info": {
   "codemirror_mode": {
    "name": "ipython",
    "version": 3
   },
   "file_extension": ".py",
   "mimetype": "text/x-python",
   "name": "python",
   "nbconvert_exporter": "python",
   "pygments_lexer": "ipython3",
   "version": "3.11.3"
  }
 },
 "nbformat": 4,
 "nbformat_minor": 5
}
